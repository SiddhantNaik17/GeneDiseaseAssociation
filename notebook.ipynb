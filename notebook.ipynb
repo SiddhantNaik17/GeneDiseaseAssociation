{
 "cells": [
  {
   "cell_type": "markdown",
   "metadata": {
    "collapsed": true,
    "pycharm": {
     "name": "#%% md\n"
    }
   },
   "source": [
    "## Gene Disease Association"
   ]
  },
  {
   "cell_type": "markdown",
   "source": [
    "Select the dataset here"
   ],
   "metadata": {
    "collapsed": false,
    "pycharm": {
     "name": "#%% md\n"
    }
   }
  },
  {
   "cell_type": "code",
   "execution_count": null,
   "outputs": [],
   "source": [
    "from utils.datasets import BrainCancer, BreastCancer, LiverCancer, ProstateCancer\n",
    "\n",
    "cancer_types = [BrainCancer, BreastCancer, ProstateCancer]\n",
    "print(\"Select the cancer type to train for\")\n",
    "print(\"1) Brain Cancer\\n2) Breast Cancer\\n3) Prostate Cancer\\n\")"
   ],
   "metadata": {
    "collapsed": false,
    "pycharm": {
     "name": "#%%\n"
    }
   }
  },
  {
   "cell_type": "code",
   "execution_count": null,
   "outputs": [],
   "source": [
    "i = int(input(\"Option: \"))\n",
    "dataset = cancer_types[i-1]()\n",
    "print(\"Training for\", dataset.name)"
   ],
   "metadata": {
    "collapsed": false,
    "pycharm": {
     "name": "#%%\n"
    }
   }
  },
  {
   "cell_type": "markdown",
   "source": [
    "Dataset details"
   ],
   "metadata": {
    "collapsed": false,
    "pycharm": {
     "name": "#%% md\n"
    }
   }
  },
  {
   "cell_type": "code",
   "execution_count": null,
   "outputs": [],
   "source": [
    "from sklearn.model_selection import train_test_split\n",
    "\n",
    "from utils.classifiers import classify\n",
    "\n",
    "print('-' * 20, dataset.name, '-' * 20)\n",
    "samples, sample_labels = dataset.get_samples_and_labels()\n",
    "\n",
    "print('Total Samples:', samples.shape[0])\n",
    "print('Total Features:', samples.shape[1])\n",
    "\n",
    "pos_samples = sample_labels.count(1)\n",
    "print('Positive Samples:', pos_samples)\n",
    "print('Negative Samples:', samples.shape[0]-pos_samples)\n",
    "\n",
    "print('Splitting dataset into 70% training and 30% test..')\n",
    "X_train, X_test, y_train, y_test = train_test_split(samples, sample_labels, test_size=0.3, random_state=109)\n",
    "\n",
    "results = []"
   ],
   "metadata": {
    "collapsed": false,
    "pycharm": {
     "name": "#%%\n"
    }
   }
  },
  {
   "cell_type": "markdown",
   "source": [
    "1. No feature selection"
   ],
   "metadata": {
    "collapsed": false,
    "pycharm": {
     "name": "#%% md\n"
    }
   }
  },
  {
   "cell_type": "code",
   "execution_count": null,
   "outputs": [],
   "source": [
    "%%time\n",
    "classify(X_train, X_test, y_train, y_test, results=results)"
   ],
   "metadata": {
    "collapsed": false,
    "pycharm": {
     "name": "#%%\n"
    }
   }
  },
  {
   "cell_type": "markdown",
   "source": [
    "2. Binary BAT Algorithm (BBA)"
   ],
   "metadata": {
    "collapsed": false,
    "pycharm": {
     "name": "#%% md\n"
    }
   }
  },
  {
   "cell_type": "code",
   "execution_count": null,
   "outputs": [],
   "source": [
    "%%time\n",
    "from Py_FS.wrapper.nature_inspired import BBA\n",
    "\n",
    "sol = BBA(150, 10, samples, sample_labels, weight_acc=0.7, val_size=14)\n",
    "idx = []\n",
    "for i in range(len(sol.best_agent)):\n",
    "    if sol.best_agent[i] == 1:\n",
    "        idx.append(i)\n",
    "_X_train = X_train[:, idx]\n",
    "_X_test = X_test[:, idx]\n",
    "\n",
    "print('=> Features Selected:', len(idx))\n",
    "classify(_X_train, _X_test, y_train, y_test, results=results, fs='Binary BAT Algorithm')"
   ],
   "metadata": {
    "collapsed": false,
    "pycharm": {
     "name": "#%%\n"
    }
   }
  },
  {
   "cell_type": "markdown",
   "source": [
    "3. Mayfly Algorithm (MA)"
   ],
   "metadata": {
    "collapsed": false,
    "pycharm": {
     "name": "#%% md\n"
    }
   }
  },
  {
   "cell_type": "code",
   "execution_count": null,
   "outputs": [],
   "source": [
    "%%time\n",
    "from Py_FS.wrapper.nature_inspired import MA\n",
    "\n",
    "sol = MA(150, 10, samples, sample_labels, weight_acc=0.7, val_size=14)\n",
    "idx = []\n",
    "for i in range(len(sol.best_agent)):\n",
    "    if sol.best_agent[i] == 1:\n",
    "        idx.append(i)\n",
    "_X_train = X_train[:, idx]\n",
    "_X_test = X_test[:, idx]\n",
    "\n",
    "print('=> Features Selected:', len(idx))\n",
    "classify(_X_train, _X_test, y_train, y_test, results=results, fs='Mafly Algorithm')"
   ],
   "metadata": {
    "collapsed": false,
    "pycharm": {
     "name": "#%%\n"
    }
   }
  },
  {
   "cell_type": "markdown",
   "source": [
    "4. Particle Swarm Optimization (PSO)"
   ],
   "metadata": {
    "collapsed": false,
    "pycharm": {
     "name": "#%% md\n"
    }
   }
  },
  {
   "cell_type": "code",
   "execution_count": null,
   "outputs": [],
   "source": [
    "%%time\n",
    "from Py_FS.wrapper.nature_inspired import PSO\n",
    "\n",
    "sol = PSO(150, 10, samples, sample_labels, weight_acc=0.7, val_size=14)\n",
    "idx = []\n",
    "for i in range(len(sol.best_agent)):\n",
    "    if sol.best_agent[i] == 1:\n",
    "        idx.append(i)\n",
    "_X_train = X_train[:, idx]\n",
    "_X_test = X_test[:, idx]\n",
    "\n",
    "print('=> Features Selected:', len(idx))\n",
    "classify(_X_train, _X_test, y_train, y_test, results=results, fs='Particle Swarm Optimization')"
   ],
   "metadata": {
    "collapsed": false,
    "pycharm": {
     "name": "#%%\n"
    }
   }
  },
  {
   "cell_type": "markdown",
   "source": [
    "5. Grey Wolf Optimizer (GWO)"
   ],
   "metadata": {
    "collapsed": false,
    "pycharm": {
     "name": "#%% md\n"
    }
   }
  },
  {
   "cell_type": "code",
   "execution_count": null,
   "outputs": [],
   "source": [
    "%%time\n",
    "from Py_FS.wrapper.nature_inspired import GWO\n",
    "\n",
    "sol = GWO(150, 10, samples, sample_labels, weight_acc=0.7, val_size=14)\n",
    "idx = []\n",
    "for i in range(len(sol.best_agent)):\n",
    "    if sol.best_agent[i] == 1:\n",
    "        idx.append(i)\n",
    "_X_train = X_train[:, idx]\n",
    "_X_test = X_test[:, idx]\n",
    "\n",
    "print('=> Features Selected:', len(idx))\n",
    "classify(_X_train, _X_test, y_train, y_test, results=results, fs='Grey Wolf Optimiser')"
   ],
   "metadata": {
    "collapsed": false,
    "pycharm": {
     "name": "#%%\n"
    }
   }
  },
  {
   "cell_type": "markdown",
   "source": [
    "6. Harmony Search (HS)"
   ],
   "metadata": {
    "collapsed": false,
    "pycharm": {
     "name": "#%% md\n"
    }
   }
  },
  {
   "cell_type": "code",
   "execution_count": null,
   "outputs": [],
   "source": [
    "%%time\n",
    "from joblib import dump\n",
    "\n",
    "from Py_FS.wrapper.nature_inspired import HS\n",
    "\n",
    "sol = HS(150, 10, samples, sample_labels, weight_acc=0.7, val_size=14)\n",
    "idx = []\n",
    "for i in range(len(sol.best_agent)):\n",
    "    if sol.best_agent[i] == 1:\n",
    "        idx.append(i)\n",
    "_X_train = X_train[:, idx]\n",
    "_X_test = X_test[:, idx]\n",
    "\n",
    "# Save indexes of selected features\n",
    "dump(idx, f'joblibs/{dataset.name}-idx.joblib')\n",
    "\n",
    "print('=> Features Selected:', len(idx))\n",
    "classify(_X_train, _X_test, y_train, y_test, results=results, fs='Harmony Search', dump_name=f'joblibs/{dataset.name}.joblib')"
   ],
   "metadata": {
    "collapsed": false,
    "pycharm": {
     "name": "#%%\n"
    }
   }
  },
  {
   "cell_type": "markdown",
   "source": [
    "### Final Result"
   ],
   "metadata": {
    "collapsed": false,
    "pycharm": {
     "name": "#%% md\n"
    }
   }
  },
  {
   "cell_type": "code",
   "execution_count": null,
   "outputs": [],
   "source": [
    "from tabulate import tabulate\n",
    "\n",
    "print(tabulate(\n",
    "    results,\n",
    "    tablefmt='fancy_grid',\n",
    "    headers=[\n",
    "        'Feature Selection',\n",
    "        'SVM',\n",
    "        'Decision Tree',\n",
    "        'Extra Trees',\n",
    "        'Linear DA',\n",
    "        'kNN',\n",
    "        'GaussianNB',\n",
    "        'MLP',\n",
    "        'Random Forest'\n",
    "    ]\n",
    "))"
   ],
   "metadata": {
    "collapsed": false,
    "pycharm": {
     "name": "#%%\n"
    }
   }
  }
 ],
 "metadata": {
  "kernelspec": {
   "display_name": "Python 3",
   "language": "python",
   "name": "python3"
  },
  "language_info": {
   "codemirror_mode": {
    "name": "ipython",
    "version": 2
   },
   "file_extension": ".py",
   "mimetype": "text/x-python",
   "name": "python",
   "nbconvert_exporter": "python",
   "pygments_lexer": "ipython2",
   "version": "2.7.6"
  }
 },
 "nbformat": 4,
 "nbformat_minor": 0
}