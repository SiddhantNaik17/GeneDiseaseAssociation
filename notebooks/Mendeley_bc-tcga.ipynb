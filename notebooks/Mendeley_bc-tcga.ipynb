{
 "cells": [
  {
   "cell_type": "markdown",
   "source": [
    "Load Dataset"
   ],
   "metadata": {
    "collapsed": false
   }
  },
  {
   "cell_type": "code",
   "execution_count": 1,
   "outputs": [],
   "source": [
    "from utils import load_dataset\n",
    "\n",
    "normalFilePath = '../data/BC-TCGA-Normal.txt'\n",
    "tumorFilePath = '../data/BC-TCGA-Tumor.txt'\n",
    "\n",
    "samples, normalSampleIndexes, tumorSampleIndexes = load_dataset(normalFilePath, tumorFilePath)"
   ],
   "metadata": {
    "collapsed": false,
    "pycharm": {
     "name": "#%%\n"
    }
   }
  },
  {
   "cell_type": "markdown",
   "source": [
    "Data preprocessing"
   ],
   "metadata": {
    "collapsed": false
   }
  },
  {
   "cell_type": "code",
   "execution_count": 2,
   "outputs": [],
   "source": [
    "from utils import zScoreNormalization\n",
    "\n",
    "zScoreNormalization(samples)"
   ],
   "metadata": {
    "collapsed": false,
    "pycharm": {
     "name": "#%%\n"
    }
   }
  },
  {
   "cell_type": "markdown",
   "source": [
    "Prepare training and testing datasets"
   ],
   "metadata": {
    "collapsed": false
   }
  },
  {
   "cell_type": "code",
   "execution_count": 3,
   "outputs": [],
   "source": [
    "import pandas as pd\n",
    "from utils import getTraningAndTestingSamples, getClassificationErrorSamples\n",
    "\n",
    "numberOfNormalTrainingSamples = 30\n",
    "numberOfTumorTrainingSamples = 30\n",
    "\n",
    "numberOfNormalTestingSamples = 30\n",
    "numberOfTumorTestingSamples = 30\n",
    "\n",
    "# Generating Training Data and Testing Data for Normal People\n",
    "normalTrainingSamples, normalTestingSamples = getTraningAndTestingSamples(samples, normalSampleIndexes,\n",
    "                                                                          numberOfNormalTrainingSamples,\n",
    "                                                                          numberOfNormalTestingSamples)\n",
    "# Generating Training Data and Testing Data for Tumor People\n",
    "tumorTrainingSamples, tumorTestingSamples = getTraningAndTestingSamples(samples, tumorSampleIndexes,\n",
    "                                                                        numberOfTumorTrainingSamples,\n",
    "                                                                        numberOfTumorTestingSamples)\n",
    "# Generating Training Data and Testing Data\n",
    "trainingSamples = normalTrainingSamples + tumorTrainingSamples\n",
    "testingSamples = normalTestingSamples + tumorTestingSamples\n",
    "# Generate Labels for Samples\n",
    "trainingSampleLabels = [0] * numberOfNormalTrainingSamples + [1] * numberOfTumorTrainingSamples\n",
    "testingSampleLabels = [0] * numberOfNormalTestingSamples + [1] * numberOfTumorTestingSamples\n",
    "\n",
    "trainingSamplesDF = pd.DataFrame(data=trainingSamples)\n",
    "testingSamplesDF = pd.DataFrame(data=testingSamples)\n"
   ],
   "metadata": {
    "collapsed": false,
    "pycharm": {
     "name": "#%%\n"
    }
   }
  },
  {
   "cell_type": "markdown",
   "source": [
    "1. No feature selection"
   ],
   "metadata": {
    "collapsed": false
   }
  },
  {
   "cell_type": "code",
   "execution_count": 4,
   "outputs": [
    {
     "name": "stdout",
     "output_type": "stream",
     "text": [
      "[Result] No of Features: 17814\n",
      "[Result] Training Error Samples: 0\n",
      "[Result] Testing Error Samples: 1\n",
      "[Result] TP = 29, FP = 0, FN = 1, TN = 30\n",
      "[Result] Accuracy = 0.9833333333333333\n"
     ]
    }
   ],
   "source": [
    "trainingErrorSamples, tp, fp, fn, tn = getClassificationErrorSamples(trainingSamples, trainingSampleLabels,\n",
    "                                                                     testingSamples, testingSampleLabels)\n",
    "\n",
    "print('[Result] No of Features: {}'.format(repr(len(testingSamples[0]))))\n",
    "print('[Result] Training Error Samples: {}'.format(repr(trainingErrorSamples)))\n",
    "print('[Result] Testing Error Samples: {}'.format(repr(fp + fn)))\n",
    "print('[Result] TP = {}, FP = {}, FN = {}, TN = {}'.format(repr(tp), repr(fp), repr(fn), repr(tn)))\n",
    "print('[Result] Accuracy = {}'.format(repr((tp+tn)/(tp+tn+fp+fn))))"
   ],
   "metadata": {
    "collapsed": false,
    "pycharm": {
     "name": "#%%\n"
    }
   }
  },
  {
   "cell_type": "markdown",
   "source": [
    "2. Random Projection + Principal Component Analysis"
   ],
   "metadata": {
    "collapsed": false
   }
  },
  {
   "cell_type": "code",
   "execution_count": 5,
   "outputs": [
    {
     "name": "stdout",
     "output_type": "stream",
     "text": [
      "[Result] No of Features: 50\n",
      "[Result] Training Error Samples: 0\n",
      "[Result] Testing Error Samples: 1\n",
      "[Result] TP = 29, FP = 0, FN = 1, TN = 30\n",
      "[Result] Accuracy = 0.9833333333333333\n"
     ]
    }
   ],
   "source": [
    "from sklearn import random_projection\n",
    "from sklearn.decomposition import PCA\n",
    "\n",
    "targetDimensionality = 50\n",
    "pcaTransformer = PCA(n_components=targetDimensionality)\n",
    "rpTransformer = random_projection.SparseRandomProjection(n_components=targetDimensionality)\n",
    "trainingSamples1 = rpTransformer.fit_transform(trainingSamples)\n",
    "trainingSamples1 = pcaTransformer.fit_transform(trainingSamples1)\n",
    "# Apply Random Projection to Testing Data\n",
    "testingSamples1 = rpTransformer.transform(testingSamples)\n",
    "testingSamples1 = pcaTransformer.transform(testingSamples1)\n",
    "\n",
    "trainingErrorSamples, tp, fp, fn, tn = getClassificationErrorSamples(trainingSamples1, trainingSampleLabels,\n",
    "                                                                     testingSamples1, testingSampleLabels)\n",
    "\n",
    "print('[Result] No of Features: {}'.format(repr(len(testingSamples1[0]))))\n",
    "print('[Result] Training Error Samples: {}'.format(repr(trainingErrorSamples)))\n",
    "print('[Result] Testing Error Samples: {}'.format(repr(fp + fn)))\n",
    "print('[Result] TP = {}, FP = {}, FN = {}, TN = {}'.format(repr(tp), repr(fp), repr(fn), repr(tn)))\n",
    "print('[Result] Accuracy = {}'.format(repr((tp+tn)/(tp+tn+fp+fn))))"
   ],
   "metadata": {
    "collapsed": false,
    "pycharm": {
     "name": "#%%\n"
    }
   }
  }
 ],
 "metadata": {
  "kernelspec": {
   "display_name": "Python 3",
   "language": "python",
   "name": "python3"
  },
  "language_info": {
   "codemirror_mode": {
    "name": "ipython",
    "version": 2
   },
   "file_extension": ".py",
   "mimetype": "text/x-python",
   "name": "python",
   "nbconvert_exporter": "python",
   "pygments_lexer": "ipython2",
   "version": "2.7.6"
  }
 },
 "nbformat": 4,
 "nbformat_minor": 0
}