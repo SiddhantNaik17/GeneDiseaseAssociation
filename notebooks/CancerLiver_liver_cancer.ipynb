{
 "cells": [
  {
   "cell_type": "code",
   "execution_count": 1,
   "outputs": [
    {
     "name": "stdout",
     "output_type": "stream",
     "text": [
      "Reading dataset...\n",
      "Total Samples: 557\n",
      "Total Features: 37582\n",
      "Positive Samples: 308\n",
      "Negative Samples: 249\n",
      "Splitting dataset into 70% training and 30% test..\n",
      "CPU times: user 6.45 s, sys: 1.79 s, total: 8.25 s\n",
      "Wall time: 6.58 s\n"
     ]
    }
   ],
   "source": [
    "from sklearn.model_selection import train_test_split\n",
    "import csv\n",
    "import numpy as np\n",
    "\n",
    "from classifiers import *\n",
    "from utils import zScoreNormalization\n",
    "\n",
    "samples = []\n",
    "results = []\n",
    "\n",
    "print('Reading dataset...')\n",
    "with open('../data/Final_GSE25097_Matrix.csv') as file:\n",
    "    csv_reader = csv.reader(file)\n",
    "    i = 0\n",
    "    for row in csv_reader:\n",
    "        if i == 2:\n",
    "            sample_labels = row[1:]\n",
    "        if i > 5:\n",
    "            samples.append([float(x) for x in row[3:]])\n",
    "        i += 1\n",
    "\n",
    "# samples = zScoreNormalization(samples)\n",
    "samples = np.array(samples).T\n",
    "print('Total Samples:', samples.shape[0])\n",
    "print('Total Features:', samples.shape[1])\n",
    "\n",
    "pos_samples = 0\n",
    "for i in range(samples.shape[0]):\n",
    "    if sample_labels[i] in ['normal', 'adjacent-non_tumor']:\n",
    "        sample_labels[i] = 0\n",
    "    else:\n",
    "        sample_labels[i] = 1\n",
    "        pos_samples += 1\n",
    "print('Positive Samples:', pos_samples)\n",
    "print('Negative Samples:', samples.shape[0]-pos_samples)\n",
    "\n",
    "# 70% training and 30% test\n",
    "print('Splitting dataset into 70% training and 30% test..')\n",
    "X_train, X_test, y_train, y_test = train_test_split(samples, sample_labels, test_size=0.3, random_state=109)"
   ],
   "metadata": {
    "collapsed": false,
    "pycharm": {
     "name": "#%%\n"
    }
   }
  },
  {
   "cell_type": "markdown",
   "source": [
    "1. No feature selection"
   ],
   "metadata": {
    "collapsed": false,
    "pycharm": {
     "name": "#%% md\n"
    }
   }
  },
  {
   "cell_type": "code",
   "source": [
    "%%time\n",
    "classify(X_train, X_test, y_train, y_test, results=results)\n"
   ],
   "metadata": {
    "collapsed": false,
    "pycharm": {
     "name": "#%%\n"
    }
   },
   "execution_count": 2,
   "outputs": [
    {
     "name": "stdout",
     "output_type": "stream",
     "text": [
      "╒══════════════════════════════╤══════════╕\n",
      "│ SVM                          │ 0.988095 │\n",
      "├──────────────────────────────┼──────────┤\n",
      "│ Decision Tree                │ 0.934524 │\n",
      "├──────────────────────────────┼──────────┤\n",
      "│ Extra Trees                  │ 0.964286 │\n",
      "├──────────────────────────────┼──────────┤\n",
      "│ Linear Discriminant Analysis │ 0.970238 │\n",
      "├──────────────────────────────┼──────────┤\n",
      "│ kNN                          │ 0.934524 │\n",
      "├──────────────────────────────┼──────────┤\n",
      "│ Gaussian Naive Bayes         │ 0.922619 │\n",
      "├──────────────────────────────┼──────────┤\n",
      "│ Multi-layer Perceptron       │ 0.982143 │\n",
      "├──────────────────────────────┼──────────┤\n",
      "│ Random Forest                │ 0.958333 │\n",
      "╘══════════════════════════════╧══════════╛\n",
      "CPU times: user 42.2 s, sys: 18.5 s, total: 1min\n",
      "Wall time: 13.5 s\n"
     ]
    }
   ]
  },
  {
   "cell_type": "markdown",
   "source": [
    "2. mRMR"
   ],
   "metadata": {
    "collapsed": false,
    "pycharm": {
     "name": "#%% md\n"
    }
   }
  },
  {
   "cell_type": "code",
   "source": [
    "%%time\n",
    "from skfeature.function.information_theoretical_based import MRMR\n",
    "\n",
    "num_fea = 100\n",
    "idx, _, _ = MRMR.mrmr(samples, sample_labels, n_selected_features=num_fea)\n",
    "_X_train = X_train[:, idx[0:num_fea]]\n",
    "_X_test = X_test[:, idx[0:num_fea]]\n",
    "\n",
    "print('=> Features Selected:', len(idx))\n",
    "classify(_X_train, _X_test, y_train, y_test, results=results, fs='mRMR')"
   ],
   "metadata": {
    "collapsed": false,
    "pycharm": {
     "name": "#%%\n"
    }
   },
   "execution_count": 3,
   "outputs": [
    {
     "ename": "KeyboardInterrupt",
     "evalue": "",
     "output_type": "error",
     "traceback": [
      "\u001B[0;31m---------------------------------------------------------------------------\u001B[0m",
      "\u001B[0;31mKeyboardInterrupt\u001B[0m                         Traceback (most recent call last)",
      "File \u001B[0;32m<timed exec>:4\u001B[0m, in \u001B[0;36m<module>\u001B[0;34m\u001B[0m\n",
      "File \u001B[0;32m~/PycharmProjects/GeneDiseaseAssociation/.venv/lib/python3.8/site-packages/skfeature/function/information_theoretical_based/MRMR.py:33\u001B[0m, in \u001B[0;36mmrmr\u001B[0;34m(X, y, **kwargs)\u001B[0m\n\u001B[1;32m     31\u001B[0m \u001B[38;5;28;01mif\u001B[39;00m \u001B[38;5;124m'\u001B[39m\u001B[38;5;124mn_selected_features\u001B[39m\u001B[38;5;124m'\u001B[39m \u001B[38;5;129;01min\u001B[39;00m kwargs\u001B[38;5;241m.\u001B[39mkeys():\n\u001B[1;32m     32\u001B[0m     n_selected_features \u001B[38;5;241m=\u001B[39m kwargs[\u001B[38;5;124m'\u001B[39m\u001B[38;5;124mn_selected_features\u001B[39m\u001B[38;5;124m'\u001B[39m]\n\u001B[0;32m---> 33\u001B[0m     F, J_CMI, MIfy \u001B[38;5;241m=\u001B[39m \u001B[43mLCSI\u001B[49m\u001B[38;5;241;43m.\u001B[39;49m\u001B[43mlcsi\u001B[49m\u001B[43m(\u001B[49m\u001B[43mX\u001B[49m\u001B[43m,\u001B[49m\u001B[43m \u001B[49m\u001B[43my\u001B[49m\u001B[43m,\u001B[49m\u001B[43m \u001B[49m\u001B[43mgamma\u001B[49m\u001B[38;5;241;43m=\u001B[39;49m\u001B[38;5;241;43m0\u001B[39;49m\u001B[43m,\u001B[49m\u001B[43m \u001B[49m\u001B[43mfunction_name\u001B[49m\u001B[38;5;241;43m=\u001B[39;49m\u001B[38;5;124;43m'\u001B[39;49m\u001B[38;5;124;43mMRMR\u001B[39;49m\u001B[38;5;124;43m'\u001B[39;49m\u001B[43m,\u001B[49m\u001B[43m \u001B[49m\u001B[43mn_selected_features\u001B[49m\u001B[38;5;241;43m=\u001B[39;49m\u001B[43mn_selected_features\u001B[49m\u001B[43m)\u001B[49m\n\u001B[1;32m     34\u001B[0m \u001B[38;5;28;01melse\u001B[39;00m:\n\u001B[1;32m     35\u001B[0m     F, J_CMI, MIfy \u001B[38;5;241m=\u001B[39m LCSI\u001B[38;5;241m.\u001B[39mlcsi(X, y, gamma\u001B[38;5;241m=\u001B[39m\u001B[38;5;241m0\u001B[39m, function_name\u001B[38;5;241m=\u001B[39m\u001B[38;5;124m'\u001B[39m\u001B[38;5;124mMRMR\u001B[39m\u001B[38;5;124m'\u001B[39m)\n",
      "File \u001B[0;32m~/PycharmProjects/GeneDiseaseAssociation/.venv/lib/python3.8/site-packages/skfeature/function/information_theoretical_based/LCSI.py:99\u001B[0m, in \u001B[0;36mlcsi\u001B[0;34m(X, y, **kwargs)\u001B[0m\n\u001B[1;32m     97\u001B[0m \u001B[38;5;28;01mif\u001B[39;00m i \u001B[38;5;129;01mnot\u001B[39;00m \u001B[38;5;129;01min\u001B[39;00m F:\n\u001B[1;32m     98\u001B[0m     f \u001B[38;5;241m=\u001B[39m X[:, i]\n\u001B[0;32m---> 99\u001B[0m     t2[i] \u001B[38;5;241m+\u001B[39m\u001B[38;5;241m=\u001B[39m \u001B[43mmidd\u001B[49m\u001B[43m(\u001B[49m\u001B[43mf_select\u001B[49m\u001B[43m,\u001B[49m\u001B[43m \u001B[49m\u001B[43mf\u001B[49m\u001B[43m)\u001B[49m\n\u001B[1;32m    100\u001B[0m     t3[i] \u001B[38;5;241m+\u001B[39m\u001B[38;5;241m=\u001B[39m cmidd(f_select, f, y)\n\u001B[1;32m    101\u001B[0m     \u001B[38;5;66;03m# calculate j_cmi for feature i (not in F)\u001B[39;00m\n",
      "File \u001B[0;32m~/PycharmProjects/GeneDiseaseAssociation/.venv/lib/python3.8/site-packages/skfeature/utility/entropy_estimators.py:103\u001B[0m, in \u001B[0;36mmidd\u001B[0;34m(x, y)\u001B[0m\n\u001B[1;32m     98\u001B[0m \u001B[38;5;28;01mdef\u001B[39;00m \u001B[38;5;21mmidd\u001B[39m(x, y):\n\u001B[1;32m     99\u001B[0m     \u001B[38;5;124;03m\"\"\"\u001B[39;00m\n\u001B[1;32m    100\u001B[0m \u001B[38;5;124;03m    Discrete mutual information estimator given a list of samples which can be any hashable object\u001B[39;00m\n\u001B[1;32m    101\u001B[0m \u001B[38;5;124;03m    \"\"\"\u001B[39;00m\n\u001B[0;32m--> 103\u001B[0m     \u001B[38;5;28;01mreturn\u001B[39;00m \u001B[38;5;241m-\u001B[39m\u001B[43mentropyd\u001B[49m\u001B[43m(\u001B[49m\u001B[38;5;28;43mlist\u001B[39;49m\u001B[43m(\u001B[49m\u001B[38;5;28;43mzip\u001B[39;49m\u001B[43m(\u001B[49m\u001B[43mx\u001B[49m\u001B[43m,\u001B[49m\u001B[43m \u001B[49m\u001B[43my\u001B[49m\u001B[43m)\u001B[49m\u001B[43m)\u001B[49m\u001B[43m)\u001B[49m\u001B[38;5;241m+\u001B[39mentropyd(x)\u001B[38;5;241m+\u001B[39mentropyd(y)\n",
      "File \u001B[0;32m~/PycharmProjects/GeneDiseaseAssociation/.venv/lib/python3.8/site-packages/skfeature/utility/entropy_estimators.py:95\u001B[0m, in \u001B[0;36mentropyd\u001B[0;34m(sx, base)\u001B[0m\n\u001B[1;32m     90\u001B[0m \u001B[38;5;28;01mdef\u001B[39;00m \u001B[38;5;21mentropyd\u001B[39m(sx, base\u001B[38;5;241m=\u001B[39m\u001B[38;5;241m2\u001B[39m):\n\u001B[1;32m     91\u001B[0m     \u001B[38;5;124;03m\"\"\"\u001B[39;00m\n\u001B[1;32m     92\u001B[0m \u001B[38;5;124;03m    Discrete entropy estimator given a list of samples which can be any hashable object\u001B[39;00m\n\u001B[1;32m     93\u001B[0m \u001B[38;5;124;03m    \"\"\"\u001B[39;00m\n\u001B[0;32m---> 95\u001B[0m     \u001B[38;5;28;01mreturn\u001B[39;00m entropyfromprobs(\u001B[43mhist\u001B[49m\u001B[43m(\u001B[49m\u001B[43msx\u001B[49m\u001B[43m)\u001B[49m, base\u001B[38;5;241m=\u001B[39mbase)\n",
      "File \u001B[0;32m~/PycharmProjects/GeneDiseaseAssociation/.venv/lib/python3.8/site-packages/skfeature/utility/entropy_estimators.py:118\u001B[0m, in \u001B[0;36mhist\u001B[0;34m(sx)\u001B[0m\n\u001B[1;32m    116\u001B[0m d \u001B[38;5;241m=\u001B[39m \u001B[38;5;28mdict\u001B[39m()\n\u001B[1;32m    117\u001B[0m \u001B[38;5;28;01mfor\u001B[39;00m s \u001B[38;5;129;01min\u001B[39;00m sx:\n\u001B[0;32m--> 118\u001B[0m     d[s] \u001B[38;5;241m=\u001B[39m \u001B[43md\u001B[49m\u001B[38;5;241;43m.\u001B[39;49m\u001B[43mget\u001B[49m\u001B[43m(\u001B[49m\u001B[43ms\u001B[49m\u001B[43m,\u001B[49m\u001B[43m \u001B[49m\u001B[38;5;241;43m0\u001B[39;49m\u001B[43m)\u001B[49m \u001B[38;5;241m+\u001B[39m \u001B[38;5;241m1\u001B[39m\n\u001B[1;32m    119\u001B[0m \u001B[38;5;28;01mreturn\u001B[39;00m \u001B[38;5;28mmap\u001B[39m(\u001B[38;5;28;01mlambda\u001B[39;00m z: \u001B[38;5;28mfloat\u001B[39m(z)\u001B[38;5;241m/\u001B[39m\u001B[38;5;28mlen\u001B[39m(sx), d\u001B[38;5;241m.\u001B[39mvalues())\n",
      "\u001B[0;31mKeyboardInterrupt\u001B[0m: "
     ]
    }
   ]
  },
  {
   "cell_type": "markdown",
   "source": [
    "3. Mutual Information (MIFS)"
   ],
   "metadata": {
    "collapsed": false,
    "pycharm": {
     "name": "#%% md\n"
    }
   }
  },
  {
   "cell_type": "code",
   "source": [
    "%%time\n",
    "from skfeature.function.information_theoretical_based import MIFS\n",
    "\n",
    "num_fea = 100\n",
    "idx, _, _ = MIFS.mifs(samples, sample_labels, n_selected_features=num_fea)\n",
    "_X_train = X_train[:, idx[0:num_fea]]\n",
    "_X_test = X_test[:, idx[0:num_fea]]\n",
    "\n",
    "print('=> Features Selected:', len(idx))\n",
    "classify(_X_train, _X_test, y_train, y_test, results=results, fs='Mutual Information')"
   ],
   "metadata": {
    "collapsed": false,
    "pycharm": {
     "name": "#%%\n"
    }
   },
   "execution_count": 4,
   "outputs": [
    {
     "ename": "KeyboardInterrupt",
     "evalue": "",
     "output_type": "error",
     "traceback": [
      "\u001B[0;31m---------------------------------------------------------------------------\u001B[0m",
      "\u001B[0;31mKeyboardInterrupt\u001B[0m                         Traceback (most recent call last)",
      "File \u001B[0;32m<timed exec>:4\u001B[0m, in \u001B[0;36m<module>\u001B[0;34m\u001B[0m\n",
      "File \u001B[0;32m~/PycharmProjects/GeneDiseaseAssociation/.venv/lib/python3.8/site-packages/skfeature/function/information_theoretical_based/MIFS.py:38\u001B[0m, in \u001B[0;36mmifs\u001B[0;34m(X, y, **kwargs)\u001B[0m\n\u001B[1;32m     36\u001B[0m \u001B[38;5;28;01mif\u001B[39;00m \u001B[38;5;124m'\u001B[39m\u001B[38;5;124mn_selected_features\u001B[39m\u001B[38;5;124m'\u001B[39m \u001B[38;5;129;01min\u001B[39;00m kwargs\u001B[38;5;241m.\u001B[39mkeys():\n\u001B[1;32m     37\u001B[0m     n_selected_features \u001B[38;5;241m=\u001B[39m kwargs[\u001B[38;5;124m'\u001B[39m\u001B[38;5;124mn_selected_features\u001B[39m\u001B[38;5;124m'\u001B[39m]\n\u001B[0;32m---> 38\u001B[0m     F, J_CMI, MIfy \u001B[38;5;241m=\u001B[39m \u001B[43mLCSI\u001B[49m\u001B[38;5;241;43m.\u001B[39;49m\u001B[43mlcsi\u001B[49m\u001B[43m(\u001B[49m\u001B[43mX\u001B[49m\u001B[43m,\u001B[49m\u001B[43m \u001B[49m\u001B[43my\u001B[49m\u001B[43m,\u001B[49m\u001B[43m \u001B[49m\u001B[43mbeta\u001B[49m\u001B[38;5;241;43m=\u001B[39;49m\u001B[43mbeta\u001B[49m\u001B[43m,\u001B[49m\u001B[43m \u001B[49m\u001B[43mgamma\u001B[49m\u001B[38;5;241;43m=\u001B[39;49m\u001B[38;5;241;43m0\u001B[39;49m\u001B[43m,\u001B[49m\u001B[43m \u001B[49m\u001B[43mn_selected_features\u001B[49m\u001B[38;5;241;43m=\u001B[39;49m\u001B[43mn_selected_features\u001B[49m\u001B[43m)\u001B[49m\n\u001B[1;32m     39\u001B[0m \u001B[38;5;28;01melse\u001B[39;00m:\n\u001B[1;32m     40\u001B[0m     F, J_CMI, MIfy \u001B[38;5;241m=\u001B[39m LCSI\u001B[38;5;241m.\u001B[39mlcsi(X, y, beta\u001B[38;5;241m=\u001B[39mbeta, gamma\u001B[38;5;241m=\u001B[39m\u001B[38;5;241m0\u001B[39m)\n",
      "File \u001B[0;32m~/PycharmProjects/GeneDiseaseAssociation/.venv/lib/python3.8/site-packages/skfeature/function/information_theoretical_based/LCSI.py:99\u001B[0m, in \u001B[0;36mlcsi\u001B[0;34m(X, y, **kwargs)\u001B[0m\n\u001B[1;32m     97\u001B[0m \u001B[38;5;28;01mif\u001B[39;00m i \u001B[38;5;129;01mnot\u001B[39;00m \u001B[38;5;129;01min\u001B[39;00m F:\n\u001B[1;32m     98\u001B[0m     f \u001B[38;5;241m=\u001B[39m X[:, i]\n\u001B[0;32m---> 99\u001B[0m     t2[i] \u001B[38;5;241m+\u001B[39m\u001B[38;5;241m=\u001B[39m \u001B[43mmidd\u001B[49m\u001B[43m(\u001B[49m\u001B[43mf_select\u001B[49m\u001B[43m,\u001B[49m\u001B[43m \u001B[49m\u001B[43mf\u001B[49m\u001B[43m)\u001B[49m\n\u001B[1;32m    100\u001B[0m     t3[i] \u001B[38;5;241m+\u001B[39m\u001B[38;5;241m=\u001B[39m cmidd(f_select, f, y)\n\u001B[1;32m    101\u001B[0m     \u001B[38;5;66;03m# calculate j_cmi for feature i (not in F)\u001B[39;00m\n",
      "File \u001B[0;32m~/PycharmProjects/GeneDiseaseAssociation/.venv/lib/python3.8/site-packages/skfeature/utility/entropy_estimators.py:103\u001B[0m, in \u001B[0;36mmidd\u001B[0;34m(x, y)\u001B[0m\n\u001B[1;32m     98\u001B[0m \u001B[38;5;28;01mdef\u001B[39;00m \u001B[38;5;21mmidd\u001B[39m(x, y):\n\u001B[1;32m     99\u001B[0m     \u001B[38;5;124;03m\"\"\"\u001B[39;00m\n\u001B[1;32m    100\u001B[0m \u001B[38;5;124;03m    Discrete mutual information estimator given a list of samples which can be any hashable object\u001B[39;00m\n\u001B[1;32m    101\u001B[0m \u001B[38;5;124;03m    \"\"\"\u001B[39;00m\n\u001B[0;32m--> 103\u001B[0m     \u001B[38;5;28;01mreturn\u001B[39;00m \u001B[38;5;241m-\u001B[39mentropyd(\u001B[38;5;28mlist\u001B[39m(\u001B[38;5;28mzip\u001B[39m(x, y)))\u001B[38;5;241m+\u001B[39m\u001B[43mentropyd\u001B[49m\u001B[43m(\u001B[49m\u001B[43mx\u001B[49m\u001B[43m)\u001B[49m\u001B[38;5;241m+\u001B[39mentropyd(y)\n",
      "File \u001B[0;32m~/PycharmProjects/GeneDiseaseAssociation/.venv/lib/python3.8/site-packages/skfeature/utility/entropy_estimators.py:95\u001B[0m, in \u001B[0;36mentropyd\u001B[0;34m(sx, base)\u001B[0m\n\u001B[1;32m     90\u001B[0m \u001B[38;5;28;01mdef\u001B[39;00m \u001B[38;5;21mentropyd\u001B[39m(sx, base\u001B[38;5;241m=\u001B[39m\u001B[38;5;241m2\u001B[39m):\n\u001B[1;32m     91\u001B[0m     \u001B[38;5;124;03m\"\"\"\u001B[39;00m\n\u001B[1;32m     92\u001B[0m \u001B[38;5;124;03m    Discrete entropy estimator given a list of samples which can be any hashable object\u001B[39;00m\n\u001B[1;32m     93\u001B[0m \u001B[38;5;124;03m    \"\"\"\u001B[39;00m\n\u001B[0;32m---> 95\u001B[0m     \u001B[38;5;28;01mreturn\u001B[39;00m \u001B[43mentropyfromprobs\u001B[49m\u001B[43m(\u001B[49m\u001B[43mhist\u001B[49m\u001B[43m(\u001B[49m\u001B[43msx\u001B[49m\u001B[43m)\u001B[49m\u001B[43m,\u001B[49m\u001B[43m \u001B[49m\u001B[43mbase\u001B[49m\u001B[38;5;241;43m=\u001B[39;49m\u001B[43mbase\u001B[49m\u001B[43m)\u001B[49m\n",
      "File \u001B[0;32m~/PycharmProjects/GeneDiseaseAssociation/.venv/lib/python3.8/site-packages/skfeature/utility/entropy_estimators.py:124\u001B[0m, in \u001B[0;36mentropyfromprobs\u001B[0;34m(probs, base)\u001B[0m\n\u001B[1;32m    122\u001B[0m \u001B[38;5;28;01mdef\u001B[39;00m \u001B[38;5;21mentropyfromprobs\u001B[39m(probs, base\u001B[38;5;241m=\u001B[39m\u001B[38;5;241m2\u001B[39m):\n\u001B[1;32m    123\u001B[0m     \u001B[38;5;66;03m# Turn a normalized list of probabilities of discrete outcomes into entropy (base 2)\u001B[39;00m\n\u001B[0;32m--> 124\u001B[0m     \u001B[38;5;28;01mreturn\u001B[39;00m \u001B[38;5;241m-\u001B[39m\u001B[38;5;28;43msum\u001B[39;49m\u001B[43m(\u001B[49m\u001B[38;5;28;43mmap\u001B[39;49m\u001B[43m(\u001B[49m\u001B[43melog\u001B[49m\u001B[43m,\u001B[49m\u001B[43m \u001B[49m\u001B[43mprobs\u001B[49m\u001B[43m)\u001B[49m\u001B[43m)\u001B[49m\u001B[38;5;241m/\u001B[39mlog(base)\n",
      "\u001B[0;31mKeyboardInterrupt\u001B[0m: "
     ]
    }
   ]
  },
  {
   "cell_type": "markdown",
   "source": [
    "4. Interaction Capping (ICAP)"
   ],
   "metadata": {
    "collapsed": false,
    "pycharm": {
     "name": "#%% md\n"
    }
   }
  },
  {
   "cell_type": "code",
   "source": [
    "%%time\n",
    "from skfeature.function.information_theoretical_based import ICAP\n",
    "\n",
    "num_fea = 100\n",
    "idx, _, _ = ICAP.icap(samples, sample_labels, n_selected_features=num_fea)\n",
    "_X_train = X_train[:, idx[0:num_fea]]\n",
    "_X_test = X_test[:, idx[0:num_fea]]\n",
    "\n",
    "print('=> Features Selected:', len(idx))\n",
    "classify(_X_train, _X_test, y_train, y_test, results=results, fs='Interaction Capping')"
   ],
   "metadata": {
    "collapsed": false,
    "pycharm": {
     "name": "#%%\n"
    }
   },
   "execution_count": 5,
   "outputs": [
    {
     "ename": "KeyboardInterrupt",
     "evalue": "",
     "output_type": "error",
     "traceback": [
      "\u001B[0;31m---------------------------------------------------------------------------\u001B[0m",
      "\u001B[0;31mKeyboardInterrupt\u001B[0m                         Traceback (most recent call last)",
      "File \u001B[0;32m<timed exec>:4\u001B[0m, in \u001B[0;36m<module>\u001B[0;34m\u001B[0m\n",
      "File \u001B[0;32m~/PycharmProjects/GeneDiseaseAssociation/.venv/lib/python3.8/site-packages/skfeature/function/information_theoretical_based/ICAP.py:47\u001B[0m, in \u001B[0;36micap\u001B[0;34m(X, y, **kwargs)\u001B[0m\n\u001B[1;32m     45\u001B[0m \u001B[38;5;28;01mfor\u001B[39;00m i \u001B[38;5;129;01min\u001B[39;00m \u001B[38;5;28mrange\u001B[39m(n_features):\n\u001B[1;32m     46\u001B[0m     f \u001B[38;5;241m=\u001B[39m X[:, i]\n\u001B[0;32m---> 47\u001B[0m     t1[i] \u001B[38;5;241m=\u001B[39m \u001B[43mmidd\u001B[49m\u001B[43m(\u001B[49m\u001B[43mf\u001B[49m\u001B[43m,\u001B[49m\u001B[43m \u001B[49m\u001B[43my\u001B[49m\u001B[43m)\u001B[49m\n\u001B[1;32m     49\u001B[0m \u001B[38;5;66;03m# make sure that j_cmi is positive at the very beginning\u001B[39;00m\n\u001B[1;32m     50\u001B[0m j_icap \u001B[38;5;241m=\u001B[39m \u001B[38;5;241m1\u001B[39m\n",
      "File \u001B[0;32m~/PycharmProjects/GeneDiseaseAssociation/.venv/lib/python3.8/site-packages/skfeature/utility/entropy_estimators.py:103\u001B[0m, in \u001B[0;36mmidd\u001B[0;34m(x, y)\u001B[0m\n\u001B[1;32m     98\u001B[0m \u001B[38;5;28;01mdef\u001B[39;00m \u001B[38;5;21mmidd\u001B[39m(x, y):\n\u001B[1;32m     99\u001B[0m     \u001B[38;5;124;03m\"\"\"\u001B[39;00m\n\u001B[1;32m    100\u001B[0m \u001B[38;5;124;03m    Discrete mutual information estimator given a list of samples which can be any hashable object\u001B[39;00m\n\u001B[1;32m    101\u001B[0m \u001B[38;5;124;03m    \"\"\"\u001B[39;00m\n\u001B[0;32m--> 103\u001B[0m     \u001B[38;5;28;01mreturn\u001B[39;00m \u001B[38;5;241m-\u001B[39mentropyd(\u001B[38;5;28mlist\u001B[39m(\u001B[38;5;28mzip\u001B[39m(x, y)))\u001B[38;5;241m+\u001B[39m\u001B[43mentropyd\u001B[49m\u001B[43m(\u001B[49m\u001B[43mx\u001B[49m\u001B[43m)\u001B[49m\u001B[38;5;241m+\u001B[39mentropyd(y)\n",
      "File \u001B[0;32m~/PycharmProjects/GeneDiseaseAssociation/.venv/lib/python3.8/site-packages/skfeature/utility/entropy_estimators.py:95\u001B[0m, in \u001B[0;36mentropyd\u001B[0;34m(sx, base)\u001B[0m\n\u001B[1;32m     90\u001B[0m \u001B[38;5;28;01mdef\u001B[39;00m \u001B[38;5;21mentropyd\u001B[39m(sx, base\u001B[38;5;241m=\u001B[39m\u001B[38;5;241m2\u001B[39m):\n\u001B[1;32m     91\u001B[0m     \u001B[38;5;124;03m\"\"\"\u001B[39;00m\n\u001B[1;32m     92\u001B[0m \u001B[38;5;124;03m    Discrete entropy estimator given a list of samples which can be any hashable object\u001B[39;00m\n\u001B[1;32m     93\u001B[0m \u001B[38;5;124;03m    \"\"\"\u001B[39;00m\n\u001B[0;32m---> 95\u001B[0m     \u001B[38;5;28;01mreturn\u001B[39;00m \u001B[43mentropyfromprobs\u001B[49m\u001B[43m(\u001B[49m\u001B[43mhist\u001B[49m\u001B[43m(\u001B[49m\u001B[43msx\u001B[49m\u001B[43m)\u001B[49m\u001B[43m,\u001B[49m\u001B[43m \u001B[49m\u001B[43mbase\u001B[49m\u001B[38;5;241;43m=\u001B[39;49m\u001B[43mbase\u001B[49m\u001B[43m)\u001B[49m\n",
      "File \u001B[0;32m~/PycharmProjects/GeneDiseaseAssociation/.venv/lib/python3.8/site-packages/skfeature/utility/entropy_estimators.py:124\u001B[0m, in \u001B[0;36mentropyfromprobs\u001B[0;34m(probs, base)\u001B[0m\n\u001B[1;32m    122\u001B[0m \u001B[38;5;28;01mdef\u001B[39;00m \u001B[38;5;21mentropyfromprobs\u001B[39m(probs, base\u001B[38;5;241m=\u001B[39m\u001B[38;5;241m2\u001B[39m):\n\u001B[1;32m    123\u001B[0m     \u001B[38;5;66;03m# Turn a normalized list of probabilities of discrete outcomes into entropy (base 2)\u001B[39;00m\n\u001B[0;32m--> 124\u001B[0m     \u001B[38;5;28;01mreturn\u001B[39;00m \u001B[38;5;241m-\u001B[39m\u001B[38;5;28;43msum\u001B[39;49m\u001B[43m(\u001B[49m\u001B[38;5;28;43mmap\u001B[39;49m\u001B[43m(\u001B[49m\u001B[43melog\u001B[49m\u001B[43m,\u001B[49m\u001B[43m \u001B[49m\u001B[43mprobs\u001B[49m\u001B[43m)\u001B[49m\u001B[43m)\u001B[49m\u001B[38;5;241m/\u001B[39mlog(base)\n",
      "File \u001B[0;32m~/PycharmProjects/GeneDiseaseAssociation/.venv/lib/python3.8/site-packages/skfeature/utility/entropy_estimators.py:119\u001B[0m, in \u001B[0;36mhist.<locals>.<lambda>\u001B[0;34m(z)\u001B[0m\n\u001B[1;32m    117\u001B[0m \u001B[38;5;28;01mfor\u001B[39;00m s \u001B[38;5;129;01min\u001B[39;00m sx:\n\u001B[1;32m    118\u001B[0m     d[s] \u001B[38;5;241m=\u001B[39m d\u001B[38;5;241m.\u001B[39mget(s, \u001B[38;5;241m0\u001B[39m) \u001B[38;5;241m+\u001B[39m \u001B[38;5;241m1\u001B[39m\n\u001B[0;32m--> 119\u001B[0m \u001B[38;5;28;01mreturn\u001B[39;00m \u001B[38;5;28mmap\u001B[39m(\u001B[38;5;28;01mlambda\u001B[39;00m z: \u001B[38;5;28;43mfloat\u001B[39;49m\u001B[43m(\u001B[49m\u001B[43mz\u001B[49m\u001B[43m)\u001B[49m\u001B[38;5;241m/\u001B[39m\u001B[38;5;28mlen\u001B[39m(sx), d\u001B[38;5;241m.\u001B[39mvalues())\n",
      "\u001B[0;31mKeyboardInterrupt\u001B[0m: "
     ]
    }
   ]
  },
  {
   "cell_type": "markdown",
   "source": [
    "5. Joint Mutual Information (JMI)"
   ],
   "metadata": {
    "collapsed": false,
    "pycharm": {
     "name": "#%% md\n"
    }
   }
  },
  {
   "cell_type": "code",
   "source": [
    "%%time\n",
    "from skfeature.function.information_theoretical_based import JMI\n",
    "\n",
    "num_fea = 100\n",
    "idx, _, _ = JMI.jmi(samples, sample_labels, n_selected_features=num_fea)\n",
    "_X_train = X_train[:, idx[0:num_fea]]\n",
    "_X_test = X_test[:, idx[0:num_fea]]\n",
    "\n",
    "print('=> Features Selected:', len(idx))\n",
    "classify(_X_train, _X_test, y_train, y_test, results=results, fs='Joint Mutual Information')"
   ],
   "metadata": {
    "collapsed": false,
    "pycharm": {
     "name": "#%%\n"
    }
   },
   "execution_count": 6,
   "outputs": [
    {
     "name": "stderr",
     "output_type": "stream",
     "text": [
      "\n",
      "KeyboardInterrupt\n",
      "\n"
     ]
    }
   ]
  },
  {
   "cell_type": "markdown",
   "source": [
    "6. Binary BAT Algorithm (BBA)"
   ],
   "metadata": {
    "collapsed": false,
    "pycharm": {
     "name": "#%% md\n"
    }
   }
  },
  {
   "cell_type": "code",
   "source": [
    "%%time\n",
    "from Py_FS.wrapper.nature_inspired import BBA\n",
    "\n",
    "sol = BBA(150, 10, samples, sample_labels, weight_acc=0.7, val_size=30)\n",
    "idx = []\n",
    "for i in range(len(sol.best_agent)):\n",
    "    if sol.best_agent[i] == 1:\n",
    "        idx.append(i)\n",
    "_X_train = X_train[:, idx[0:num_fea]]\n",
    "_X_test = X_test[:, idx[0:num_fea]]\n",
    "\n",
    "print('=> Features Selected:', len(idx))\n",
    "classify(_X_train, _X_test, y_train, y_test, results=results, fs='Binary BAT Algorithm')"
   ],
   "metadata": {
    "collapsed": false,
    "pycharm": {
     "name": "#%%\n",
     "is_executing": true
    }
   },
   "execution_count": null,
   "outputs": []
  },
  {
   "cell_type": "markdown",
   "source": [
    "7. Mayfly Algorithm (MA)"
   ],
   "metadata": {
    "collapsed": false,
    "pycharm": {
     "name": "#%% md\n"
    }
   }
  },
  {
   "cell_type": "code",
   "source": [
    "%%time\n",
    "from Py_FS.wrapper.nature_inspired import MA\n",
    "\n",
    "sol = MA(150, 10, samples, sample_labels, weight_acc=0.7, val_size=30)\n",
    "idx = []\n",
    "for i in range(len(sol.best_agent)):\n",
    "    if sol.best_agent[i] == 1:\n",
    "        idx.append(i)\n",
    "_X_train = X_train[:, idx[0:num_fea]]\n",
    "_X_test = X_test[:, idx[0:num_fea]]\n",
    "\n",
    "print('=> Features Selected:', len(idx))\n",
    "classify(_X_train, _X_test, y_train, y_test, results=results, fs='Mafly Algorithm')"
   ],
   "metadata": {
    "collapsed": false,
    "pycharm": {
     "name": "#%%\n",
     "is_executing": true
    }
   },
   "execution_count": null,
   "outputs": []
  },
  {
   "cell_type": "markdown",
   "source": [
    "8. Particle Swarm Optimization (PSO)"
   ],
   "metadata": {
    "collapsed": false,
    "pycharm": {
     "name": "#%% md\n"
    }
   }
  },
  {
   "cell_type": "code",
   "source": [
    "%%time\n",
    "from Py_FS.wrapper.nature_inspired import PSO\n",
    "\n",
    "sol = PSO(150, 10, samples, sample_labels, weight_acc=0.7, val_size=30)\n",
    "idx = []\n",
    "for i in range(len(sol.best_agent)):\n",
    "    if sol.best_agent[i] == 1:\n",
    "        idx.append(i)\n",
    "_X_train = X_train[:, idx[0:num_fea]]\n",
    "_X_test = X_test[:, idx[0:num_fea]]\n",
    "\n",
    "print('=> Features Selected:', len(idx))\n",
    "classify(_X_train, _X_test, y_train, y_test, results=results, fs='Particle Swarm Optimization')"
   ],
   "metadata": {
    "collapsed": false,
    "pycharm": {
     "name": "#%%\n",
     "is_executing": true
    }
   },
   "execution_count": null,
   "outputs": []
  },
  {
   "cell_type": "markdown",
   "source": [
    "9. Grey Wolf Optimizer (GWO)"
   ],
   "metadata": {
    "collapsed": false,
    "pycharm": {
     "name": "#%% md\n"
    }
   }
  },
  {
   "cell_type": "code",
   "execution_count": null,
   "outputs": [],
   "source": [
    "%%time\n",
    "from Py_FS.wrapper.nature_inspired import GWO\n",
    "\n",
    "sol = GWO(150, 10, samples, sample_labels, weight_acc=0.7, val_size=30)\n",
    "idx = []\n",
    "for i in range(len(sol.best_agent)):\n",
    "    if sol.best_agent[i] == 1:\n",
    "        idx.append(i)\n",
    "_X_train = X_train[:, idx[0:num_fea]]\n",
    "_X_test = X_test[:, idx[0:num_fea]]\n",
    "\n",
    "print('=> Features Selected:', len(idx))\n",
    "classify(_X_train, _X_test, y_train, y_test, results=results, fs='Grey Wolf Optimiser')"
   ],
   "metadata": {
    "collapsed": false,
    "pycharm": {
     "name": "#%%\n",
     "is_executing": true
    }
   }
  },
  {
   "cell_type": "markdown",
   "source": [
    "10. Harmony Search (HS)\n",
    "%%time"
   ],
   "metadata": {
    "collapsed": false
   }
  },
  {
   "cell_type": "code",
   "execution_count": null,
   "outputs": [],
   "source": [
    "from Py_FS.wrapper.nature_inspired import HS\n",
    "\n",
    "sol = HS(150, 10, samples, sample_labels, weight_acc=0.7, val_size=30)\n",
    "idx = []\n",
    "for i in range(len(sol.best_agent)):\n",
    "    if sol.best_agent[i] == 1:\n",
    "        idx.append(i)\n",
    "_X_train = X_train[:, idx[0:num_fea]]\n",
    "_X_test = X_test[:, idx[0:num_fea]]\n",
    "\n",
    "print('=> Features Selected:', len(idx))\n",
    "classify(_X_train, _X_test, y_train, y_test, results=results, fs='Harmony Search')"
   ],
   "metadata": {
    "collapsed": false,
    "pycharm": {
     "name": "#%%\n",
     "is_executing": true
    }
   }
  },
  {
   "cell_type": "markdown",
   "source": [
    "### Final Result"
   ],
   "metadata": {
    "collapsed": false
   }
  },
  {
   "cell_type": "code",
   "execution_count": null,
   "outputs": [],
   "source": [
    "print(tabulate(\n",
    "    results,\n",
    "    tablefmt='fancy_grid',\n",
    "    headers=[\n",
    "        'Feature Selection',\n",
    "        'SVM',\n",
    "        'Decision Tree',\n",
    "        'Extra Trees',\n",
    "        'Linear DA',\n",
    "        'kNN',\n",
    "        'GaussianNB',\n",
    "        'MLP',\n",
    "        'Random Forest'\n",
    "    ]\n",
    "))"
   ],
   "metadata": {
    "collapsed": false,
    "pycharm": {
     "name": "#%%\n",
     "is_executing": true
    }
   }
  }
 ],
 "metadata": {
  "kernelspec": {
   "display_name": "Python 3",
   "language": "python",
   "name": "python3"
  },
  "language_info": {
   "codemirror_mode": {
    "name": "ipython",
    "version": 2
   },
   "file_extension": ".py",
   "mimetype": "text/x-python",
   "name": "python",
   "nbconvert_exporter": "python",
   "pygments_lexer": "ipython2",
   "version": "2.7.6"
  }
 },
 "nbformat": 4,
 "nbformat_minor": 0
}